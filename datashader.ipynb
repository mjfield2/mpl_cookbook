{
 "cells": [
  {
   "cell_type": "code",
   "execution_count": null,
   "id": "91355089-5669-458a-b0e1-d25ced349aff",
   "metadata": {},
   "outputs": [],
   "source": [
    "import numpy as np\n",
    "import xarray as xr\n",
    "import matplotlib.pyplot as plt\n",
    "import datashader as ds\n",
    "import holoviews as hv\n",
    "import hvplot.xarray\n",
    "import panel as pn\n",
    "import geoviews as gv\n",
    "import geoviews.feature as gf\n",
    "from holoviews.operation.datashader import rasterize, shade\n",
    "import cartopy.crs as ccrs\n",
    "import cmocean\n",
    "from pathlib import Path"
   ]
  },
  {
   "cell_type": "code",
   "execution_count": null,
   "id": "56e34ff7-0fcc-49a0-b793-c5d6b5614be3",
   "metadata": {},
   "outputs": [],
   "source": [
    "hv.extension('bokeh', 'matplotlib')"
   ]
  },
  {
   "cell_type": "code",
   "execution_count": null,
   "id": "540486cc-4417-4580-a379-9ca80a2920ea",
   "metadata": {},
   "outputs": [],
   "source": [
    "# path = Path('~/Documents/cryo_geophysics/raw_data/BedMachineAntarctica-v3.nc')\n",
    "path = Path(r'C:\\Files\\UF_school\\cryo_geophysics\\raw_data\\BedMachineAntarctica-v3.nc')\n",
    "\n",
    "bm = xr.load_dataset(path)\n",
    "bm = bm.drop_vars(names='mapping')"
   ]
  },
  {
   "cell_type": "code",
   "execution_count": null,
   "id": "1cb2d295-2018-4eea-940a-582f275f32f2",
   "metadata": {},
   "outputs": [],
   "source": [
    "bm.bed.dims"
   ]
  },
  {
   "cell_type": "code",
   "execution_count": null,
   "id": "293cf975-2cf4-4add-99a4-d6b0699c283f",
   "metadata": {},
   "outputs": [],
   "source": [
    "bm"
   ]
  },
  {
   "cell_type": "code",
   "execution_count": null,
   "id": "0d308e36-c8f7-4b9e-b7d0-5c199224005c",
   "metadata": {},
   "outputs": [],
   "source": [
    "# bed_chunk = bm.bed.chunk(chunks={'x':1000,'y':1000})"
   ]
  },
  {
   "cell_type": "code",
   "execution_count": null,
   "id": "8333567e-047b-4884-a7a7-cb3a6d5cf515",
   "metadata": {},
   "outputs": [],
   "source": [
    "raster = rasterize(hv.Image(bm.bed)).opts(cmap=cmocean.cm.topo, clim=(-2500,2500), aspect='equal', \n",
    "                                 colorbar=True, frame_height=380, \n",
    "                                 title='BedMachine v3 - Bed', clabel='meters', tools=['hover'])\n",
    "\n",
    "raster"
   ]
  },
  {
   "cell_type": "code",
   "execution_count": null,
   "id": "dd7ae450-3e05-463a-9f4a-ec5c735746d6",
   "metadata": {},
   "outputs": [],
   "source": [
    "rangexy = hv.streams.RangeXY(source=raster)\n",
    "rangexy"
   ]
  },
  {
   "cell_type": "code",
   "execution_count": null,
   "id": "63ebb531-6e40-4be7-9345-6d2479204d1f",
   "metadata": {},
   "outputs": [],
   "source": [
    "raster.ddims"
   ]
  },
  {
   "cell_type": "code",
   "execution_count": null,
   "id": "e725c25d-7ee0-4507-a292-25c28d393b10",
   "metadata": {},
   "outputs": [],
   "source": [
    "rasterize(hv.Image(bm.thickness)).opts(cmap='plasma', clim=(0,3000), aspect='equal', \n",
    "                                 colorbar=True, frame_height=380, \n",
    "                                 title='BedMachine v3 - Thickness', clabel='meters', tools=['hover'])"
   ]
  },
  {
   "cell_type": "code",
   "execution_count": null,
   "id": "7d83251f-2acd-4dfc-9572-4adb2eed595d",
   "metadata": {},
   "outputs": [],
   "source": [
    "opts_vars = {\n",
    "    'bed' : dict(cmap=cmocean.cm.topo, clim=(-2500,2500), clabel='meters'),\n",
    "    'surface' : dict(cmap='viridis', clim=(float(bm.surface.min().values), float(bm.surface.max().values)), clabel='meters'),\n",
    "    'thickness' : dict(cmap='plasma', clim=(float(bm.thickness.min().values), float(bm.thickness.max().values)), clabel='meters'),\n",
    "    'firn' : dict(cmap='inferno', clim=(float(bm.firn.min().values), float(bm.firn.max().values)), clabel='meters'),\n",
    "    'mask' : dict(cmap='viridis', clim=(float(bm.mask.min().values), float(bm.mask.max().values)), clabel='mask'),\n",
    "    'errbed' : dict(cmap='viridis', clim=(float(bm.errbed.min().values), float(bm.errbed.max().values)), clabel='errbed'),\n",
    "    'source' : dict(cmap='viridis', clim=(float(bm.source.min().values), float(bm.source.max().values)), clabel='source'),\n",
    "    'dataid' : dict(cmap='viridis', clim=(float(bm.dataid.min().values), float(bm.dataid.max().values)), clabel='dataid'),\n",
    "    'geoid' : dict(cmap='cividis', clim=(float(bm.geoid.min().values), float(bm.geoid.max().values)), clabel='meters')\n",
    "}\n",
    "for key in opts_vars:\n",
    "    opts_vars[key].update(dict(colorbar=True, frame_height=380, aspect='equal', tools=['hover'], xlabel='PSX [m]', ylabel='PSY [m]'))\n",
    "\n",
    "# opts_vars"
   ]
  },
  {
   "cell_type": "code",
   "execution_count": null,
   "id": "3aba14ce-680e-4126-88f7-31db87fddd3b",
   "metadata": {},
   "outputs": [],
   "source": [
    "float(bm.mask.min().values)"
   ]
  },
  {
   "cell_type": "code",
   "execution_count": null,
   "id": "c63581d6-fe33-40dc-9b23-0b5305bedc1f",
   "metadata": {},
   "outputs": [],
   "source": [
    "from holoviews.streams import RangeX, RangeY\n",
    "\n",
    "def plot(var):\n",
    "    var = var_select.value\n",
    "    if var in ['bed', 'surface', 'thickness', 'geoid', 'firn']:\n",
    "        raster = rasterize(hv.Image(bm[var]))\n",
    "    else:\n",
    "        raster = rasterize(hv.Image(bm[var]), aggregator='mode')\n",
    "    return raster.opts(**opts_vars[var], title=f'BedMachine - {var}')\n",
    "\n",
    "def on_var_select(event):\n",
    "    var = event.obj.value\n",
    "    col[-1] = plot(var=var)\n",
    "\n",
    "var_select = pn.widgets.Select(name=\"value\", options=list(bm.data_vars))\n",
    "var_stream = hv.streams.Params(var_select, ['value'], rename={'value': 'var'})\n",
    "var_select.param.watch(on_var_select, parameter_names=['value']);\n",
    "\n",
    "col = pn.Column(var_select, plot(var_select.value))\n",
    "col"
   ]
  },
  {
   "cell_type": "code",
   "execution_count": null,
   "id": "e083ba20-ebbe-4633-92fe-937cbf255f9d",
   "metadata": {},
   "outputs": [],
   "source": [
    "from holoviews.streams import RangeX, RangeY\n",
    "\n",
    "var_select = pn.widgets.Select(name=\"value\", options=list(bm.data_vars))\n",
    "\n",
    "@pn.depends(var=var_select)\n",
    "def update_plot(var):\n",
    "    return plot(var)\n",
    "\n",
    "col = pn.Column(var_select, update_plot)\n",
    "col"
   ]
  },
  {
   "cell_type": "code",
   "execution_count": null,
   "id": "96fb4397-ead2-4c60-9541-aaf0e5fe65bc",
   "metadata": {},
   "outputs": [],
   "source": [
    "from holoviews.streams import RangeX, RangeY\n",
    "\n",
    "def plot(var):\n",
    "    image = hv.Image(bm[var], kdims=['x', 'y']).redim.label(x='PXS [m]', y='PSY [m]')\n",
    "    image = image.opts(**opts_vars[var], title=f'BedMachine - {var}')\n",
    "    return image.opts(backend_opts={\"colorbar.title\": opts_vars[var]['clabel']})\n",
    "\n",
    "var_select = pn.widgets.Select(name=\"Field\", options=list(bm.data_vars))\n",
    "\n",
    "@pn.depends(var=var_select)\n",
    "def update_plot(var):\n",
    "    return plot(var)\n",
    "\n",
    "@pn.depends(var=var_select)\n",
    "def get_aggregator(var=var_select):\n",
    "    if var in ['bed', 'surface', 'thickness', 'geoid', 'firn']:\n",
    "        return 'mean'\n",
    "    else:\n",
    "        return 'mode'\n",
    "\n",
    "dmap = rasterize(hv.DynamicMap(update_plot), aggregator=get_aggregator)\n",
    "\n",
    "col = pn.Column(var_select, dmap)\n",
    "col"
   ]
  },
  {
   "cell_type": "code",
   "execution_count": null,
   "id": "8faf333b-4117-499d-9f3e-ee738ac8b6be",
   "metadata": {},
   "outputs": [],
   "source": [
    "from holoviews.streams import RangeX, RangeY\n",
    "\n",
    "\n",
    "def plot(var, cmap, clim):\n",
    "    image = hv.Image(bm[var], kdims=['x', 'y']).redim.label(x='PXS [m]', y='PSY [m]')\n",
    "    image = image.opts(**opts_vars[var], title=f'BedMachine - {var}')\n",
    "    image = image.opts(cmap=cmap, clim=clim)\n",
    "    return image.opts(backend_opts={\"colorbar.title\": opts_vars[var]['clabel']})\n",
    "\n",
    "var_select = pn.widgets.Select(name=\"Field\", options=list(bm.data_vars))\n",
    "cmap_list = ['viridis', 'plasma', 'inferno', 'magma', 'cividis', 'cmo.topo', 'cmo.ice', 'cmo.deep', 'cmo.speed_r', 'cmo.rain_r', \n",
    "             'cmo.balance', 'cmo.curl', 'cmo.diff']\n",
    "cmap_select = pn.widgets.Select(name='cmap', options=cmap_list)\n",
    "\n",
    "#vmin_slider = pn.widgets.FloatSlider(name='Float Slider', start=0, end=3.141, step=0.01, value=1.57)\n",
    "\n",
    "@pn.depends(var=var_select)\n",
    "def get_clim_slider(var=var_select):\n",
    "    start = float(bm[var].values.min())\n",
    "    end = float(bm[var].values.max())\n",
    "    step = (end-start)/100\n",
    "    clim_slider = pn.widgets.RangeSlider(name='clim', start=start, end=end, step=step, value=(start, end))\n",
    "    return clim_slider\n",
    "\n",
    "clim_slider = get_clim_slider(var_select.value)\n",
    "\n",
    "def reset_clim(var=var_select):\n",
    "    start = float(bm[var].values.min())\n",
    "    end = float(bm[var].values.max())\n",
    "    step = (end-start)/100\n",
    "    clim_slider.start = start\n",
    "    clim_slider.end = end\n",
    "    clim_slider.step = step\n",
    "    clim_slider.value = (start, end)\n",
    "\n",
    "@pn.depends(var=var_select, cmap=cmap_select, clim=clim_slider)\n",
    "def update_plot(var=var_select, cmap=cmap_select, clim=clim_slider):\n",
    "    reset_clim(var)\n",
    "    return plot(var, cmap, clim)\n",
    "\n",
    "@pn.depends(cmap=cmap_select, clim=clim_slider)\n",
    "def update_cmap(cmap=cmap_select):\n",
    "    return plot(var_select, cmap_select, clim_slider.value)\n",
    "\n",
    "# @pn.depends(clim=clim_slider)\n",
    "# def update_clim(clim=clim_slider):\n",
    "#     return plot(var, cmap, clim_slider.value)\n",
    "\n",
    "@pn.depends(var=var_select)\n",
    "def get_aggregator(var=var_select):\n",
    "    if var in ['bed', 'surface', 'thickness', 'geoid', 'firn']:\n",
    "        return 'mean'\n",
    "    else:\n",
    "        return 'mode'\n",
    "\n",
    "\n",
    "\n",
    "# @pn.depends(cmap=cmap_select)\n",
    "# def get_cmap(cmap=cmap_select):\n",
    "#     pass\n",
    "\n",
    "dmap = rasterize(hv.DynamicMap(update_plot), aggregator=get_aggregator)\n",
    "clim_slider_bind = pn.bind(update_cmap, clim_slider)\n",
    "col = pn.Column(var_select, cmap_select, clim_slider, dmap)\n",
    "col"
   ]
  },
  {
   "cell_type": "code",
   "execution_count": null,
   "id": "82029e57-a36d-49d7-8c9b-ac9b99d1d2a5",
   "metadata": {},
   "outputs": [],
   "source": [
    "var_select"
   ]
  },
  {
   "cell_type": "code",
   "execution_count": null,
   "id": "9258aa8f-9b11-4a1d-a2a1-8a10e9bcfdc6",
   "metadata": {},
   "outputs": [],
   "source": [
    "class Mypanel:\n",
    "    def __init__(self):\n",
    "        self.var_select = pn.widgets.Select(name=\"Field\", options=list(bm.data_vars))\n",
    "        self.cmap_list = ['viridis', 'plasma', 'inferno', 'magma', 'cividis', 'cmo.topo', 'cmo.ice', 'cmo.deep', 'cmo.speed_r', 'cmo.rain_r', \n",
    "                     'cmo.balance', 'cmo.curl', 'cmo.diff']\n",
    "        self.cmap_select = pn.widgets.Select(name='cmap', options=cmap_list)\n",
    "    \n",
    "        self.clim_slider = get_clim_slider(self.var_select.value)\n",
    "    \n",
    "        self.tmp_var = self.var_select.value\n",
    "\n",
    "    def plot(self, var, cmap, clim):\n",
    "        image = hv.Image(bm[var], kdims=['x', 'y']).redim.label(x='PXS [m]', y='PSY [m]')\n",
    "        image = image.opts(**opts_vars[var], title=f'BedMachine - {var}')\n",
    "        image = image.opts(cmap=cmap, clim=clim)\n",
    "        return image.opts(backend_opts={\"colorbar.title\": opts_vars[var]['clabel']})\n",
    "\n",
    "    def get_clim_slider(self):\n",
    "        var=self.var_select\n",
    "        start = float(bm[var].values.min())\n",
    "        end = float(bm[var].values.max())\n",
    "        step = (end-start)/100\n",
    "        clim_slider = pn.widgets.RangeSlider(name='clim', start=start, end=end, step=step, value=(start, end))\n",
    "        return clim_slider\n",
    "    \n",
    "    def reset_clim(self):\n",
    "        var=self.var_select\n",
    "        start = float(bm[var].values.min())\n",
    "        end = float(bm[var].values.max())\n",
    "        step = (end-start)/100\n",
    "        self.clim_slider.start = start\n",
    "        self.clim_slider.end = end\n",
    "        self.clim_slider.step = step\n",
    "        self.clim_slider.value = (start, end)\n",
    "    \n",
    "    @pn.depends(var=self.var_select, cmap=self.cmap_select, clim=self.clim_slider)\n",
    "    def update_plot(self, var=var_select, cmap=cmap_select, clim=clim_slider):\n",
    "        if self.tmp_var != var:\n",
    "            #reset_clim(var)\n",
    "            self.tmp_var = var.value\n",
    "        return self.plot(var, cmap, clim)\n",
    "    \n",
    "    @pn.depends(cmap=self.cmap_select, clim=self.clim_slider)\n",
    "    def update_cmap(self, cmap=cmap_select):\n",
    "        return plot(var_select, cmap_select, clim_slider.value)\n",
    "    \n",
    "    # @pn.depends(clim=clim_slider)\n",
    "    # def update_clim(clim=clim_slider):\n",
    "    #     return plot(var, cmap, clim_slider.value)\n",
    "    \n",
    "    @pn.depends(var=var_select)\n",
    "    def get_aggregator(self, var=var_select):\n",
    "        if var in ['bed', 'surface', 'thickness', 'geoid', 'firn']:\n",
    "            return 'mean'\n",
    "        else:\n",
    "            return 'mode'"
   ]
  },
  {
   "cell_type": "code",
   "execution_count": null,
   "id": "e6051236-8749-4ad4-8578-d5990df46e21",
   "metadata": {},
   "outputs": [],
   "source": [
    "myp = Mypanel()\n",
    "\n",
    "dmap = rasterize(hv.DynamicMap(myp.update_plot()), aggregator=myp.get_aggregator())\n",
    "col = pn.Column(var_select, cmap_select, dmap)"
   ]
  },
  {
   "cell_type": "code",
   "execution_count": null,
   "id": "c4198444-726b-414f-90a7-30e22dd8923d",
   "metadata": {},
   "outputs": [],
   "source": [
    "var_select.on_change"
   ]
  },
  {
   "cell_type": "markdown",
   "id": "eaf93c34-4f09-4aa6-9d4e-17613a8f7806",
   "metadata": {},
   "source": [
    "# Dashboard\n",
    "\n",
    "https://examples.holoviz.org/gallery/datashader_dashboard/datashader_dashboard.html"
   ]
  },
  {
   "cell_type": "code",
   "execution_count": null,
   "id": "9873951d-aeed-4cc5-871a-021e2658c6be",
   "metadata": {},
   "outputs": [],
   "source": [
    "import os, colorcet, param as pm, holoviews as hv, panel as pn, datashader as ds\n",
    "#import intake\n",
    "from holoviews.element import tiles as hvts\n",
    "from holoviews.operation.datashader import rasterize, shade, spread\n",
    "from collections import OrderedDict as odict"
   ]
  },
  {
   "cell_type": "code",
   "execution_count": null,
   "id": "499afba5-3b3d-4ae0-bd03-71c61b08c6d9",
   "metadata": {},
   "outputs": [],
   "source": [
    "aggfns = odict([(f.capitalize(),getattr(ds,f)) for f in ['count','sum','min','max','mean','var','std']])\n",
    "aggfns"
   ]
  },
  {
   "cell_type": "code",
   "execution_count": null,
   "id": "14b9e44b-2cde-4aab-9ed7-116f103a7e0f",
   "metadata": {},
   "outputs": [],
   "source": [
    "cmaps = odict([(x, plt.get_cmap(x)) for x in ['viridis', 'plasma', 'inferno', 'cividis', 'cmo.topo']])\n",
    "cmaps"
   ]
  },
  {
   "cell_type": "code",
   "execution_count": null,
   "id": "2d006fed-6bd1-4878-b91d-e2ab34e8b7e8",
   "metadata": {},
   "outputs": [],
   "source": [
    "aggfns = odict([(f,getattr(ds.reductions,f)) for f in ['count','sum','min','max','mean','var','std']])\n",
    "aggfns"
   ]
  },
  {
   "cell_type": "code",
   "execution_count": null,
   "id": "fde360e8-e0a2-4435-a016-82769e1157f0",
   "metadata": {},
   "outputs": [],
   "source": [
    "fields = odict([(x, bm[x]) for x in bm.data_vars])\n",
    "#aggfns = odict([(f,getattr(ds,f)) for f in ['count','sum','min','max','mean','var','std']])\n",
    "aggfns = ['mean', 'mode']\n",
    "cmaps = odict([(x, plt.get_cmap(x)) for x in ['viridis', 'plasma', 'inferno', 'cividis', 'cmo.topo']])\n",
    "\n",
    "class Explorer(pm.Parameterized):\n",
    "    field         = pm.Selector(objects=fields)\n",
    "    agg_fn        = pm.Selector(objects=aggfns)\n",
    "    cmap          = pm.Selector(objects=cmaps)\n",
    "    \n",
    "    @pm.depends('field')\n",
    "    def elem(self):\n",
    "        image = hv.Image(self.field, kdims=['x', 'y']).opts(**opts_vars[self.field.name], title=f'BedMachine - {self.field.name}')\n",
    "        return image.redim.label(x='PXS [m]', y='PSY [m]')\n",
    "\n",
    "    # @pm.depends('agg_fn')\n",
    "    # def aggregator(self):\n",
    "    #     field = None if self.field.name == \"counts\" else self.field\n",
    "    #     return self.agg_fn(self.field.values)\n",
    "\n",
    "    @pm.depends('agg_fn')\n",
    "    def aggregator(self):\n",
    "        if self.field in ['bed', 'surface', 'thickness', 'geoid', 'firn']:\n",
    "            return 'mean'\n",
    "        else:\n",
    "            return 'mode'\n",
    "\n",
    "    def viewable(self,**kwargs):\n",
    "        rasterized = rasterize(hv.DynamicMap(self.elem), aggregator=self.aggregator, cmap=self.cmap, width=800, height=400)\n",
    "        # shaded     = shade(rasterized, cmap=self.param.cmap)\n",
    "        # spreaded   = spread(shaded, px=self.param.spreading, how=\"add\")\n",
    "        # dataplot   = spreaded.apply.opts(alpha=self.param.data_opacity, show_legend=False)\n",
    "        \n",
    "        return rasterized\n",
    "    \n",
    "explorer = Explorer(name=\"\")"
   ]
  },
  {
   "cell_type": "code",
   "execution_count": null,
   "id": "e68eda0f-97f3-4481-91a7-aa187efe1e6c",
   "metadata": {},
   "outputs": [],
   "source": [
    "fields = list(bm.data_vars)\n",
    "#aggfns = odict([(f,getattr(ds,f)) for f in ['count','sum','min','max','mean','var','std']])\n",
    "aggfns = ['mean', 'mode', 'var', 'std', 'min', 'max']\n",
    "cmaps = ['viridis', 'plasma', 'inferno', 'cividis', 'cmo.topo']\n",
    "\n",
    "class Explorer(pm.Parameterized):\n",
    "    field         = pm.Selector(objects=fields)\n",
    "    agg_fn        = pm.Selector(objects=aggfns)\n",
    "    cmap          = pm.Selector(objects=cmaps)\n",
    "    clim          = pm.Range(default=(0.,4.), bounds=(float(bm[fields[0]].min().values), float(bm[fields[0]].max().values)))\n",
    "    diverging     = pm.Boolean(default=False)\n",
    "    \n",
    "    \n",
    "    # @pm.depends('field')\n",
    "    # def elem(self):\n",
    "    #     image = hv.Image(bm[self.field], kdims=['x', 'y']).redim.label(x='PXS [m]', y='PSY [m]')\n",
    "    #     image = image.opts(colorbar=True, frame_height=380, aspect='equal', tools=['hover'])\n",
    "    #     return image\n",
    "\n",
    "    @pm.depends('field', 'cmap', 'clim')\n",
    "    def elem(self):\n",
    "        image = hv.Image(bm[self.field], kdims=['x', 'y']).redim.label(x='PXS [m]', y='PSY [m]')\n",
    "        image = image.opts(colorbar=True, frame_height=380, aspect='equal', tools=['hover'])\n",
    "        # self.param.clim.bounds = ((float(bm[self.field].min().values), float(bm[self.field].max().values)))\n",
    "        # self.clim = ((float(bm[self.field].min().values), float(bm[self.field].max().values)))\n",
    "        image = image.opts(cmap=self.cmap, clim=self.clim, clabel=opts_vars[self.field]['clabel'])\n",
    "        return image\n",
    "\n",
    "    @pm.depends('field', watch=True)\n",
    "    def update_clim(self):\n",
    "        self.param.clim.bounds = ((float(bm[self.field].min().values), float(bm[self.field].max().values)))\n",
    "        self.clim = ((float(bm[self.field].min().values), float(bm[self.field].max().values)))\n",
    "\n",
    "    @pm.depends('diverging', 'clim', watch=True)\n",
    "    def diverging_cmap(self):\n",
    "        if self.diverging==True:\n",
    "            vmin = np.min(np.abs([self.clim[0], self.clim[1]]))\n",
    "            self.clim = (-vmin, vmin)\n",
    "\n",
    "    @pm.depends('agg_fn')\n",
    "    def aggregator(self):\n",
    "        return self.agg_fn\n",
    "\n",
    "    @pm.depends('cmap')\n",
    "    def get_cmap(self):\n",
    "        return self.cmap\n",
    "\n",
    "    def viewable(self,**kwargs):\n",
    "        rasterized = rasterize(hv.DynamicMap(self.elem), aggregator=self.aggregator)\n",
    "        # shaded     = shade(rasterized, cmap=self.param.cmap)\n",
    "        # shaded = shaded.opts(colorbar=True, frame_height=380, aspect='equal', tools=['hover'], xlabel='PSX [m]', ylabel='PSY [m]')\n",
    "        # spreaded   = spread(shaded, px=self.param.spreading, how=\"add\")\n",
    "        # dataplot   = spreaded.apply.opts(alpha=self.param.data_opacity, show_legend=False)\n",
    "        \n",
    "        return rasterized\n",
    "    \n",
    "explorer = Explorer(name=\"\")"
   ]
  },
  {
   "cell_type": "code",
   "execution_count": null,
   "id": "ee542413-12ba-4dfa-aada-112bf7dfc346",
   "metadata": {},
   "outputs": [],
   "source": [
    "field         = pm.Selector(objects=fields)"
   ]
  },
  {
   "cell_type": "code",
   "execution_count": null,
   "id": "bd948540-4100-499e-a24e-b60535d6e438",
   "metadata": {},
   "outputs": [],
   "source": [
    "explorer.field.values"
   ]
  },
  {
   "cell_type": "code",
   "execution_count": null,
   "id": "1ddad300-44af-4174-947d-16dfef0eba3d",
   "metadata": {},
   "outputs": [],
   "source": [
    "explorer.agg_fn"
   ]
  },
  {
   "cell_type": "code",
   "execution_count": null,
   "id": "f5a0355a-5dce-4fdd-92f7-056359029785",
   "metadata": {},
   "outputs": [],
   "source": [
    "im = explorer.elem()\n",
    "rasterize(im)"
   ]
  },
  {
   "cell_type": "code",
   "execution_count": null,
   "id": "0f3305f6-f8b4-4554-a645-1fffa552b30c",
   "metadata": {},
   "outputs": [],
   "source": [
    "explorer.agg_fn(explorer.field)"
   ]
  },
  {
   "cell_type": "code",
   "execution_count": null,
   "id": "4e61cb57-400f-4fa0-888d-896ac14aaae4",
   "metadata": {},
   "outputs": [],
   "source": [
    "panel = pn.Row(pn.Column(pn.Param(explorer.param, expand_button=False)), explorer.viewable())\n",
    "panel.servable(\"Datashader Dashboard\")"
   ]
  },
  {
   "cell_type": "code",
   "execution_count": null,
   "id": "d9cf3700-dd10-441c-95db-f55c6a7649ea",
   "metadata": {},
   "outputs": [],
   "source": [
    "opts_vars[explorer.field]['clabel']"
   ]
  },
  {
   "cell_type": "code",
   "execution_count": null,
   "id": "dc7e02b4-5d20-4038-ac84-8b9ce08c250d",
   "metadata": {},
   "outputs": [],
   "source": [
    "explorer.diverging"
   ]
  },
  {
   "cell_type": "code",
   "execution_count": null,
   "id": "6e82e323-d422-49c8-b836-70046a674b28",
   "metadata": {},
   "outputs": [],
   "source": [
    "hv.help"
   ]
  },
  {
   "cell_type": "code",
   "execution_count": null,
   "id": "0075c2ea-ab1e-4d96-aa30-04599c6477ea",
   "metadata": {},
   "outputs": [],
   "source": [
    "bool(explorer.field.values)"
   ]
  },
  {
   "cell_type": "code",
   "execution_count": null,
   "id": "2bad24f3-d674-43fd-9c7d-b8b69eb86a76",
   "metadata": {},
   "outputs": [],
   "source": [
    "hv.help(shade)"
   ]
  },
  {
   "cell_type": "code",
   "execution_count": null,
   "id": "2e77cb5d-b829-4922-b07f-41da00308560",
   "metadata": {},
   "outputs": [],
   "source": [
    "hv_ds = hv.Dataset(bm)\n",
    "hv_ds"
   ]
  },
  {
   "cell_type": "code",
   "execution_count": null,
   "id": "6bb1c941-2705-4669-a291-bdf87b2249bd",
   "metadata": {},
   "outputs": [],
   "source": [
    "bed = hv_ds.to(hv.Image)\n",
    "bed"
   ]
  },
  {
   "cell_type": "code",
   "execution_count": null,
   "id": "7a3bdbaa-86e6-4116-a52b-a8c508bd90ce",
   "metadata": {},
   "outputs": [],
   "source": [
    "# from xrviz.dashboard import Dashboard\n",
    "\n",
    "# dash = Dashboard(bm)\n",
    "# dash.panel()"
   ]
  },
  {
   "cell_type": "code",
   "execution_count": null,
   "id": "4d9544b2-bcc3-4d58-b284-e6ca6765b011",
   "metadata": {},
   "outputs": [],
   "source": [
    "bm = bm.drop_vars(names='mapping')\n",
    "bm"
   ]
  },
  {
   "cell_type": "code",
   "execution_count": null,
   "id": "ca6db2ff-a7e4-4e96-b739-816c5b218ce3",
   "metadata": {},
   "outputs": [],
   "source": [
    "ds = hv.Dataset(bm)\n",
    "ds"
   ]
  },
  {
   "cell_type": "code",
   "execution_count": null,
   "id": "2bbd14ca-5b7b-4a88-9263-376c50649ca6",
   "metadata": {},
   "outputs": [],
   "source": [
    "airtemp = ds.to(hv.Image, kdims=[\"x\", \"y\"])\n",
    "airtemp"
   ]
  },
  {
   "cell_type": "code",
   "execution_count": null,
   "id": "99199433-3d32-4c0c-93ff-55dddb416711",
   "metadata": {},
   "outputs": [],
   "source": [
    "hv.help(rasterize)"
   ]
  },
  {
   "cell_type": "code",
   "execution_count": null,
   "id": "901bcc8d-9bd1-4d6b-9298-2713c2047d59",
   "metadata": {},
   "outputs": [],
   "source": []
  }
 ],
 "metadata": {
  "kernelspec": {
   "display_name": "Python 3 (ipykernel)",
   "language": "python",
   "name": "python3"
  },
  "language_info": {
   "codemirror_mode": {
    "name": "ipython",
    "version": 3
   },
   "file_extension": ".py",
   "mimetype": "text/x-python",
   "name": "python",
   "nbconvert_exporter": "python",
   "pygments_lexer": "ipython3",
   "version": "3.10.14"
  }
 },
 "nbformat": 4,
 "nbformat_minor": 5
}
